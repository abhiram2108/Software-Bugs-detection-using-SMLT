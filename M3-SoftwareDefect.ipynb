{
 "cells": [
  {
   "cell_type": "markdown",
   "id": "0a6e9b30",
   "metadata": {},
   "source": [
    "# Module - 3"
   ]
  },
  {
   "cell_type": "markdown",
   "id": "44ec69e3",
   "metadata": {},
   "source": [
    "# Logistic Regression"
   ]
  },
  {
   "cell_type": "code",
   "execution_count": 1,
   "id": "1bf1e2fd",
   "metadata": {},
   "outputs": [],
   "source": [
    "import pandas as p\n",
    "import numpy as n\n",
    "import matplotlib.pyplot as plt\n",
    "import seaborn as s"
   ]
  },
  {
   "cell_type": "code",
   "execution_count": 2,
   "id": "28cc4754",
   "metadata": {},
   "outputs": [],
   "source": [
    "import warnings\n",
    "warnings.filterwarnings('ignore')"
   ]
  },
  {
   "cell_type": "code",
   "execution_count": 3,
   "id": "1d0671e5",
   "metadata": {},
   "outputs": [],
   "source": [
    "data=p.read_csv('softbug.csv')"
   ]
  },
  {
   "cell_type": "code",
   "execution_count": 4,
   "id": "709217e0",
   "metadata": {},
   "outputs": [],
   "source": [
    "df=data.dropna()"
   ]
  },
  {
   "cell_type": "code",
   "execution_count": 5,
   "id": "4fbfae6f",
   "metadata": {},
   "outputs": [
    {
     "data": {
      "text/plain": [
       "Index(['loc', 'v(g)', 'ev(g)', 'iv(g)', 'n', 'v', 'l', 'd', 'i', 'e', 'b', 't',\n",
       "       'lOCode', 'lOComment', 'lOBlank', 'locCodeAndComment', 'uniq_Op',\n",
       "       'uniq_Opnd', 'total_Op', 'total_Opnd', 'branchCount', 'defects'],\n",
       "      dtype='object')"
      ]
     },
     "execution_count": 5,
     "metadata": {},
     "output_type": "execute_result"
    }
   ],
   "source": [
    "df.columns"
   ]
  },
  {
   "cell_type": "code",
   "execution_count": 6,
   "id": "f4c18202",
   "metadata": {},
   "outputs": [],
   "source": [
    "from sklearn.preprocessing import LabelEncoder\n",
    "le = LabelEncoder()\n",
    "var_mod = ['loc', 'v(g)', 'ev(g)', 'iv(g)', 'n', 'v', 'l', 'd', 'i', 'e', 'b', 't',\n",
    "       'lOCode', 'lOComment', 'lOBlank', 'locCodeAndComment', 'uniq_Op',\n",
    "       'uniq_Opnd', 'total_Op', 'total_Opnd', 'branchCount', 'defects']\n",
    "for i in var_mod:\n",
    "    df[i] = le.fit_transform(df[i]).astype(int)"
   ]
  },
  {
   "cell_type": "code",
   "execution_count": 7,
   "id": "7dc95a36",
   "metadata": {},
   "outputs": [],
   "source": [
    "#preprocessing, split test and dataset, split response variable\n",
    "X = df.drop(labels='defects', axis=1)\n",
    "#Response variable\n",
    "y = df.loc[:,'defects']    "
   ]
  },
  {
   "cell_type": "code",
   "execution_count": 8,
   "id": "52bbf082",
   "metadata": {},
   "outputs": [
    {
     "name": "stdout",
     "output_type": "stream",
     "text": [
      "Number of training dataset:  7619\n",
      "Number of test dataset:  3266\n",
      "Total number of dataset:  10885\n"
     ]
    }
   ],
   "source": [
    "'''We'll use a test size of 30%. We also stratify the split on the response variable,\n",
    "which is very important to do because there are so few fraudulent transactions'''\n",
    "\n",
    "from sklearn.model_selection import train_test_split\n",
    "X_train, X_test, y_train, y_test = train_test_split(X, y, test_size=0.30, random_state=1, stratify=y)\n",
    "print(\"Number of training dataset: \", len(X_train))\n",
    "print(\"Number of test dataset: \", len(X_test))\n",
    "print(\"Total number of dataset: \", len(X_train)+len(X_test))"
   ]
  },
  {
   "cell_type": "code",
   "execution_count": 9,
   "id": "bdc4abd4",
   "metadata": {},
   "outputs": [],
   "source": [
    "#According to the cross-validated MCC scores, the random forest is the best-performing model, so now let's evaluate its performance on the test set.\n",
    "from sklearn.metrics import confusion_matrix, classification_report, matthews_corrcoef, cohen_kappa_score, accuracy_score, average_precision_score, roc_auc_score"
   ]
  },
  {
   "cell_type": "code",
   "execution_count": 10,
   "id": "90b11751",
   "metadata": {},
   "outputs": [
    {
     "name": "stdout",
     "output_type": "stream",
     "text": [
      "\n",
      "Classification report of Logistic Regression Results:\n",
      "\n",
      "              precision    recall  f1-score   support\n",
      "\n",
      "           0       0.83      0.93      0.88      2634\n",
      "           1       0.41      0.19      0.26       632\n",
      "\n",
      "    accuracy                           0.79      3266\n",
      "   macro avg       0.62      0.56      0.57      3266\n",
      "weighted avg       0.75      0.79      0.76      3266\n",
      "\n",
      "\n",
      "Confusion Matrix result of Logistic Regression is:\n",
      " [[2462  172]\n",
      " [ 510  122]]\n",
      "\n",
      "Sensitivity :  0.9347000759301443\n",
      "\n",
      "Specificity :  0.1930379746835443\n",
      "\n",
      "Cross validation test results of accuracy:\n",
      "[0.74368397 0.76435462 0.77951309 0.79834635 0.81534221]\n",
      "\n",
      "Accuracy result of Logistic Regression is: 78.02480477721636\n"
     ]
    }
   ],
   "source": [
    "from sklearn.metrics import accuracy_score, confusion_matrix\n",
    "from sklearn.linear_model import LogisticRegression\n",
    "from sklearn.model_selection import cross_val_score\n",
    "\n",
    "logR= LogisticRegression()\n",
    "\n",
    "logR.fit(X_train,y_train)\n",
    "\n",
    "predictLR = logR.predict(X_test)\n",
    "\n",
    "print(\"\")\n",
    "print('Classification report of Logistic Regression Results:')\n",
    "print(\"\")\n",
    "print(classification_report(y_test,predictLR))\n",
    "\n",
    "print(\"\")\n",
    "cm1=confusion_matrix(y_test,predictLR)\n",
    "print('Confusion Matrix result of Logistic Regression is:\\n',cm1)\n",
    "print(\"\")\n",
    "sensitivity1 = cm1[0,0]/(cm1[0,0]+cm1[0,1])\n",
    "print('Sensitivity : ', sensitivity1 )\n",
    "print(\"\")\n",
    "specificity1 = cm1[1,1]/(cm1[1,0]+cm1[1,1])\n",
    "print('Specificity : ', specificity1)\n",
    "print(\"\")\n",
    "\n",
    "accuracy = cross_val_score(logR, X, y, scoring='accuracy')\n",
    "print('Cross validation test results of accuracy:')\n",
    "print(accuracy)\n",
    "#get the mean of each fold \n",
    "print(\"\")\n",
    "print(\"Accuracy result of Logistic Regression is:\",accuracy.mean() * 100)\n",
    "LR=accuracy.mean() * 100"
   ]
  },
  {
   "cell_type": "code",
   "execution_count": null,
   "id": "c8e0848b",
   "metadata": {},
   "outputs": [],
   "source": []
  }
 ],
 "metadata": {
  "kernelspec": {
   "display_name": "Python 3.10.5 64-bit",
   "language": "python",
   "name": "python3"
  },
  "language_info": {
   "codemirror_mode": {
    "name": "ipython",
    "version": 3
   },
   "file_extension": ".py",
   "mimetype": "text/x-python",
   "name": "python",
   "nbconvert_exporter": "python",
   "pygments_lexer": "ipython3",
   "version": "3.10.5"
  },
  "vscode": {
   "interpreter": {
    "hash": "7e50af5d9f1ba3969d6cb47f6664926e76255a29bb194c1d0a9f5e44d534436c"
   }
  }
 },
 "nbformat": 4,
 "nbformat_minor": 5
}
